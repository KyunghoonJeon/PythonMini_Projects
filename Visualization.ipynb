{
  "nbformat": 4,
  "nbformat_minor": 0,
  "metadata": {
    "colab": {
      "private_outputs": true,
      "provenance": [],
      "authorship_tag": "ABX9TyPfk7yb4M2XlP3Lfv/Qz1Dd",
      "include_colab_link": true
    },
    "kernelspec": {
      "name": "python3",
      "display_name": "Python 3"
    },
    "language_info": {
      "name": "python"
    }
  },
  "cells": [
    {
      "cell_type": "markdown",
      "metadata": {
        "id": "view-in-github",
        "colab_type": "text"
      },
      "source": [
        "<a href=\"https://colab.research.google.com/github/KyunghoonJeon/PythonMini_Projects/blob/main/Visualization.ipynb\" target=\"_parent\"><img src=\"https://colab.research.google.com/assets/colab-badge.svg\" alt=\"Open In Colab\"/></a>"
      ]
    },
    {
      "cell_type": "code",
      "execution_count": null,
      "metadata": {
        "id": "JUXEVPD2dlbK"
      },
      "outputs": [],
      "source": [
        "import seaborn as sns\n",
        "import numpy as np"
      ]
    },
    {
      "cell_type": "code",
      "source": [
        "titanic = sns.load_dataset('titanic')"
      ],
      "metadata": {
        "id": "RqYc2Z0ndoBJ"
      },
      "execution_count": null,
      "outputs": []
    },
    {
      "cell_type": "code",
      "source": [
        "titanic.head()"
      ],
      "metadata": {
        "id": "ERiRsavqdySg"
      },
      "execution_count": null,
      "outputs": []
    },
    {
      "cell_type": "code",
      "source": [
        "sns.histplot(data=titanic, x='age')"
      ],
      "metadata": {
        "id": "05J3WUg8d1fO"
      },
      "execution_count": null,
      "outputs": []
    },
    {
      "cell_type": "code",
      "source": [
        "sns.histplot(data=titanic, x='age', bins=10)"
      ],
      "metadata": {
        "id": "WiSbxekHeJha"
      },
      "execution_count": null,
      "outputs": []
    },
    {
      "cell_type": "code",
      "source": [
        "sns.histplot(data=titanic, x='age', hue='alive')"
      ],
      "metadata": {
        "id": "6jUkoC-1eZWQ"
      },
      "execution_count": null,
      "outputs": []
    },
    {
      "cell_type": "code",
      "source": [
        "sns.histplot(data=titanic, x='age',hue='alive',multiple='stack')"
      ],
      "metadata": {
        "id": "raeuQjFUeuSU"
      },
      "execution_count": null,
      "outputs": []
    },
    {
      "cell_type": "code",
      "source": [
        "sns.kdeplot(data=titanic, x='age')"
      ],
      "metadata": {
        "id": "mj14ljzbe2Cu"
      },
      "execution_count": null,
      "outputs": []
    },
    {
      "cell_type": "code",
      "source": [
        "sns.kdeplot(data=titanic, x='age', hue='alive', multiple='stack')"
      ],
      "metadata": {
        "id": "1ICslsOAfGIE"
      },
      "execution_count": null,
      "outputs": []
    },
    {
      "cell_type": "code",
      "source": [
        "sns.displot(data=titanic, x='age')"
      ],
      "metadata": {
        "id": "TxOr_-YYfhM_"
      },
      "execution_count": null,
      "outputs": []
    },
    {
      "cell_type": "code",
      "source": [
        "sns.displot(data=titanic, x='age', kind='kde')"
      ],
      "metadata": {
        "id": "e4ZCrphNf35A"
      },
      "execution_count": null,
      "outputs": []
    },
    {
      "cell_type": "code",
      "source": [
        "sns.displot(data=titanic, x='age', kde=True)"
      ],
      "metadata": {
        "id": "8fJSSrcsgB7k"
      },
      "execution_count": null,
      "outputs": []
    },
    {
      "cell_type": "code",
      "source": [
        "sns.kdeplot(data=titanic, x='age')\n",
        "sns.rugplot(data=titanic, x='age')"
      ],
      "metadata": {
        "id": "8Qa3nL2ZgytD"
      },
      "execution_count": null,
      "outputs": []
    },
    {
      "cell_type": "code",
      "source": [
        "sns.barplot(x='class', y='fare', data=titanic)"
      ],
      "metadata": {
        "id": "Ozlbg8e-zag2"
      },
      "execution_count": null,
      "outputs": []
    },
    {
      "cell_type": "code",
      "source": [
        "sns.barplot(x='class', y='fare', data=titanic, estimator=np.median)"
      ],
      "metadata": {
        "id": "HmXoqHUBhTWm"
      },
      "execution_count": null,
      "outputs": []
    },
    {
      "cell_type": "code",
      "source": [
        "sns.barplot(x='class', y='fare', data=titanic, estimator=np.max)"
      ],
      "metadata": {
        "id": "6vn7h5JOzWSi"
      },
      "execution_count": null,
      "outputs": []
    },
    {
      "cell_type": "code",
      "source": [
        "sns.pointplot(x='class',y='fare', data=titanic)"
      ],
      "metadata": {
        "id": "CJNDSl5tjwMX"
      },
      "execution_count": null,
      "outputs": []
    },
    {
      "cell_type": "code",
      "source": [
        "sns.boxplot(x='class', y='age', data=titanic)"
      ],
      "metadata": {
        "id": "wOcvXdTIk0GK"
      },
      "execution_count": null,
      "outputs": []
    },
    {
      "cell_type": "code",
      "source": [
        "sns.violinplot(x='class', y='age', data=titanic)"
      ],
      "metadata": {
        "id": "WvFyqOKOlaQH"
      },
      "execution_count": null,
      "outputs": []
    },
    {
      "cell_type": "code",
      "source": [
        "sns.violinplot(x='class', y='age', hue='sex', data=titanic, split=True)"
      ],
      "metadata": {
        "id": "j696eAjjxrVu"
      },
      "execution_count": null,
      "outputs": []
    },
    {
      "cell_type": "code",
      "source": [
        "sns.countplot(data=titanic, x='class')"
      ],
      "metadata": {
        "id": "aPgbhv2sx6lr"
      },
      "execution_count": null,
      "outputs": []
    },
    {
      "cell_type": "code",
      "source": [
        "sns.countplot(data=titanic, y='class')"
      ],
      "metadata": {
        "id": "BX-8zJpIyYta"
      },
      "execution_count": null,
      "outputs": []
    },
    {
      "cell_type": "code",
      "source": [
        "import matplotlib.pyplot as plt"
      ],
      "metadata": {
        "id": "RlZfBxZFy6hY"
      },
      "execution_count": null,
      "outputs": []
    },
    {
      "cell_type": "code",
      "source": [
        "x=[10,60,30]\n",
        "labels=['A','B','C']\n",
        "plt.pie(x=x, labels=labels, autopct='%.1f%%')"
      ],
      "metadata": {
        "id": "lWQaGUrq2lKD"
      },
      "execution_count": null,
      "outputs": []
    },
    {
      "cell_type": "code",
      "source": [
        "flights=sns.load_dataset('flights')"
      ],
      "metadata": {
        "id": "wVXGE1gr2wKd"
      },
      "execution_count": null,
      "outputs": []
    },
    {
      "cell_type": "code",
      "source": [
        "flights.head()"
      ],
      "metadata": {
        "id": "OtVaHoDn26hx"
      },
      "execution_count": null,
      "outputs": []
    },
    {
      "cell_type": "code",
      "source": [
        "flights_pivot = flights.pivot(index='month', columns='year', values='passengers')\n",
        "flights_pivot"
      ],
      "metadata": {
        "id": "FCoExyzY28SD"
      },
      "execution_count": null,
      "outputs": []
    },
    {
      "cell_type": "code",
      "source": [
        "sns.heatmap(data=flights_pivot)"
      ],
      "metadata": {
        "id": "40RUSu6g3LjY"
      },
      "execution_count": null,
      "outputs": []
    },
    {
      "cell_type": "code",
      "source": [
        "sns.lineplot(x='year', y='passengers', data=flights)"
      ],
      "metadata": {
        "id": "092A63ji32Zd"
      },
      "execution_count": null,
      "outputs": []
    },
    {
      "cell_type": "code",
      "source": [
        "tips=sns.load_dataset('tips')"
      ],
      "metadata": {
        "id": "jBs-iji64Zef"
      },
      "execution_count": null,
      "outputs": []
    },
    {
      "cell_type": "code",
      "source": [
        "tips.head()"
      ],
      "metadata": {
        "id": "CReF1uwZ49aw"
      },
      "execution_count": null,
      "outputs": []
    },
    {
      "cell_type": "code",
      "source": [
        "sns.scatterplot(data=tips, x='total_bill', y='tip')"
      ],
      "metadata": {
        "id": "vBb5eHC34_MT"
      },
      "execution_count": null,
      "outputs": []
    },
    {
      "cell_type": "code",
      "source": [
        "sns.scatterplot(data=tips, x='total_bill', y='tip', hue='time')"
      ],
      "metadata": {
        "id": "Y3Us8fZB5StS"
      },
      "execution_count": null,
      "outputs": []
    },
    {
      "cell_type": "code",
      "source": [
        "sns.regplot(data=tips, x='total_bill', y='tip')"
      ],
      "metadata": {
        "id": "Mg27BFix5y5q"
      },
      "execution_count": null,
      "outputs": []
    },
    {
      "cell_type": "code",
      "source": [
        "sns.regplot(data=tips, x='total_bill', y='tip', ci=99)"
      ],
      "metadata": {
        "id": "yJsciNJS6LAh"
      },
      "execution_count": null,
      "outputs": []
    },
    {
      "cell_type": "code",
      "source": [
        "sns.lmplot(x = 'total_bill', y = 'tip', hue = 'smoker', data = tips)"
      ],
      "metadata": {
        "id": "_77z6IaY6UL4"
      },
      "execution_count": null,
      "outputs": []
    },
    {
      "cell_type": "code",
      "source": [
        "sns.lmplot(x = 'total_bill', y = 'tip', col='smoker', hue = 'smoker', data = tips)"
      ],
      "metadata": {
        "id": "9WnSYXgh7o8B"
      },
      "execution_count": null,
      "outputs": []
    },
    {
      "cell_type": "code",
      "source": [
        "sns.residplot(x = \"total_bill\", y = \"tip\", data = tips)"
      ],
      "metadata": {
        "id": "h0IKNeeH8efs"
      },
      "execution_count": null,
      "outputs": []
    }
  ]
}