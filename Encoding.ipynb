{
  "nbformat": 4,
  "nbformat_minor": 0,
  "metadata": {
    "colab": {
      "private_outputs": true,
      "provenance": [],
      "authorship_tag": "ABX9TyOqIvpUjDMg1W7Ve5lCia5B",
      "include_colab_link": true
    },
    "kernelspec": {
      "name": "python3",
      "display_name": "Python 3"
    },
    "language_info": {
      "name": "python"
    }
  },
  "cells": [
    {
      "cell_type": "markdown",
      "metadata": {
        "id": "view-in-github",
        "colab_type": "text"
      },
      "source": [
        "<a href=\"https://colab.research.google.com/github/KyunghoonJeon/PythonMini_Projects/blob/main/Encoding.ipynb\" target=\"_parent\"><img src=\"https://colab.research.google.com/assets/colab-badge.svg\" alt=\"Open In Colab\"/></a>"
      ]
    },
    {
      "cell_type": "code",
      "execution_count": null,
      "metadata": {
        "id": "vMzyxqyrKA1g"
      },
      "outputs": [],
      "source": [
        "import numpy as np"
      ]
    },
    {
      "cell_type": "code",
      "source": [
        "from sklearn.metrics import mean_absolute_error, mean_squared_error, mean_squared_log_error, r2_score"
      ],
      "metadata": {
        "id": "r8uhqc6GKDE5"
      },
      "execution_count": null,
      "outputs": []
    },
    {
      "cell_type": "code",
      "source": [
        "true=np.array([1,2,3,2,3,5,4,6,5,6,7,8,8])\n",
        "preds=np.array([1,1,2,2,3,4,4,5,5,7,7,6,8])"
      ],
      "metadata": {
        "id": "SIoqoYxhK9ph"
      },
      "execution_count": null,
      "outputs": []
    },
    {
      "cell_type": "code",
      "source": [
        "MAE=mean_absolute_error(true,preds)\n",
        "MAE"
      ],
      "metadata": {
        "id": "uROcFC6tLKnI"
      },
      "execution_count": null,
      "outputs": []
    },
    {
      "cell_type": "code",
      "source": [
        "from sklearn.preprocessing import LabelEncoder, OneHotEncoder"
      ],
      "metadata": {
        "id": "V49KFZoVLUYg"
      },
      "execution_count": null,
      "outputs": []
    },
    {
      "cell_type": "code",
      "source": [
        "fruits=['사과', '블루베리', '바나나', '귤', '블루베리', '바나나', '바나나', '사과']\n",
        "label_encoder=LabelEncoder()\n",
        "onehot_encoder=OneHotEncoder()\n",
        "fruits_label_encoded=label_encoder.fit_transform(fruits)\n",
        "fruits_onehot_encoded=onehot_encoder.fit_transform(fruits_label_encoded.reshape(-1,1))"
      ],
      "metadata": {
        "id": "89NUttZ7amoo"
      },
      "execution_count": null,
      "outputs": []
    },
    {
      "cell_type": "code",
      "source": [
        "print(fruits_label_encoded)"
      ],
      "metadata": {
        "id": "w55JzzD2a4ru"
      },
      "execution_count": null,
      "outputs": []
    },
    {
      "cell_type": "code",
      "source": [
        "print(fruits_onehot_encoded)"
      ],
      "metadata": {
        "id": "IjZavZ3zddP7"
      },
      "execution_count": null,
      "outputs": []
    },
    {
      "cell_type": "code",
      "source": [
        "print(fruits_onehot_encoded.toarray())"
      ],
      "metadata": {
        "id": "vaZ18GdSa7p4"
      },
      "execution_count": null,
      "outputs": []
    },
    {
      "cell_type": "code",
      "source": [
        "fruits_label_encoded"
      ],
      "metadata": {
        "id": "POpl5477dRgu"
      },
      "execution_count": null,
      "outputs": []
    },
    {
      "cell_type": "code",
      "source": [
        "fruits_label_encoded.reshape(4,2)"
      ],
      "metadata": {
        "id": "ATvSWKujdjry"
      },
      "execution_count": null,
      "outputs": []
    },
    {
      "cell_type": "code",
      "source": [
        "fruits_label_encoded.reshape(-1,1)"
      ],
      "metadata": {
        "id": "VNj-zXiKdoiH"
      },
      "execution_count": null,
      "outputs": []
    },
    {
      "cell_type": "code",
      "source": [
        "import pandas as pd"
      ],
      "metadata": {
        "id": "dartpBABdrgs"
      },
      "execution_count": null,
      "outputs": []
    },
    {
      "cell_type": "code",
      "source": [
        "pd.get_dummies(fruits)"
      ],
      "metadata": {
        "id": "hzaHE00ydqou"
      },
      "execution_count": null,
      "outputs": []
    },
    {
      "cell_type": "code",
      "source": [
        "height_weight_dict={'키':[1.7,1.5,1.8], '몸무게':[75,55,60]}\n",
        "df=pd.DataFrame(height_weight_dict, index=['광일', '혜성', '덕수'])\n",
        "\n",
        "df"
      ],
      "metadata": {
        "id": "TZhnVWnTealw"
      },
      "execution_count": null,
      "outputs": []
    },
    {
      "cell_type": "code",
      "source": [
        "from sklearn.preprocessing import MinMaxScaler"
      ],
      "metadata": {
        "id": "p7gOqOfRgITt"
      },
      "execution_count": null,
      "outputs": []
    },
    {
      "cell_type": "code",
      "source": [
        "scaler=MinMaxScaler()\n",
        "scaler.fit(df)\n",
        "df_scaled=scaler.transform(df)\n",
        "df_scaled"
      ],
      "metadata": {
        "id": "RhTcOn2Dgb4N"
      },
      "execution_count": null,
      "outputs": []
    },
    {
      "cell_type": "code",
      "source": [
        "from sklearn.preprocessing import StandardScaler"
      ],
      "metadata": {
        "id": "pdiT4mxqgk9_"
      },
      "execution_count": null,
      "outputs": []
    },
    {
      "cell_type": "code",
      "source": [
        "scaler=StandardScaler()"
      ],
      "metadata": {
        "id": "tEu4ExeMiFCR"
      },
      "execution_count": null,
      "outputs": []
    },
    {
      "cell_type": "code",
      "source": [
        "df_scaled=scaler.fit_transform(df)\n",
        "df_scaled"
      ],
      "metadata": {
        "id": "7qsHV4LXiIyk"
      },
      "execution_count": null,
      "outputs": []
    }
  ]
}