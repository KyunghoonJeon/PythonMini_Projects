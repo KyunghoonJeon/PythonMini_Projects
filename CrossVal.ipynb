{
  "nbformat": 4,
  "nbformat_minor": 0,
  "metadata": {
    "colab": {
      "private_outputs": true,
      "provenance": [],
      "authorship_tag": "ABX9TyNIHx95xOSAZSbDiy2FUgXD",
      "include_colab_link": true
    },
    "kernelspec": {
      "name": "python3",
      "display_name": "Python 3"
    },
    "language_info": {
      "name": "python"
    }
  },
  "cells": [
    {
      "cell_type": "markdown",
      "metadata": {
        "id": "view-in-github",
        "colab_type": "text"
      },
      "source": [
        "<a href=\"https://colab.research.google.com/github/KyunghoonJeon/PythonMini_Projects/blob/main/CrossVal.ipynb\" target=\"_parent\"><img src=\"https://colab.research.google.com/assets/colab-badge.svg\" alt=\"Open In Colab\"/></a>"
      ]
    },
    {
      "cell_type": "code",
      "execution_count": null,
      "metadata": {
        "id": "cFAVs2Es05IS"
      },
      "outputs": [],
      "source": [
        "import numpy as np"
      ]
    },
    {
      "cell_type": "code",
      "source": [
        "from sklearn.model_selection import KFold"
      ],
      "metadata": {
        "id": "_beZe3ns06yn"
      },
      "execution_count": null,
      "outputs": []
    },
    {
      "cell_type": "code",
      "source": [
        "data=np.array([0,1,2,3,4,5,6,7,8,9])\n",
        "folds=KFold(n_splits=5, shuffle=False)"
      ],
      "metadata": {
        "id": "8ViiwXlM09-o"
      },
      "execution_count": null,
      "outputs": []
    },
    {
      "cell_type": "code",
      "source": [
        "for train_idx, valid_idx in folds.split(data):\n",
        "    print(data[train_idx], data[valid_idx])"
      ],
      "metadata": {
        "id": "TT9ISyls1YMk"
      },
      "execution_count": null,
      "outputs": []
    },
    {
      "cell_type": "code",
      "source": [
        "folds=KFold(n_splits=5, shuffle=True)\n",
        "\n",
        "for train_idx, valid_idx in folds.split(data):\n",
        "    print(data[train_idx], data[valid_idx])"
      ],
      "metadata": {
        "id": "bnvdxx_R2deu"
      },
      "execution_count": null,
      "outputs": []
    },
    {
      "cell_type": "code",
      "source": [
        "y=np.array(['스팸']*5+['일반']*45)\n",
        "\n",
        "folds=KFold(n_splits=5, shuffle=True)\n",
        "for idx, (train_idx,valid_idx) in enumerate(folds.split(y)):\n",
        "    print(idx+1)\n",
        "    print(y[valid_idx], '\\n')"
      ],
      "metadata": {
        "id": "BigrWadD20CD"
      },
      "execution_count": null,
      "outputs": []
    },
    {
      "cell_type": "code",
      "source": [
        "from sklearn.model_selection import StratifiedKFold"
      ],
      "metadata": {
        "id": "Ii-8QjQS4B_0"
      },
      "execution_count": null,
      "outputs": []
    },
    {
      "cell_type": "code",
      "source": [
        "X=np.array(range(50))\n",
        "Y=np.array(['스팸']*5+['일반']*45)\n",
        "\n",
        "folds=StratifiedKFold(n_splits=5)\n",
        "\n",
        "for idx, (train_idx,valid_idx) in enumerate(folds.split(X,Y)):\n",
        "    print(idx+1)\n",
        "    print(Y[valid_idx], '\\n')"
      ],
      "metadata": {
        "id": "GjcyGtiF4JZf"
      },
      "execution_count": null,
      "outputs": []
    }
  ]
}